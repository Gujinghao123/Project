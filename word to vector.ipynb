{
 "cells": [
  {
   "cell_type": "code",
   "execution_count": 38,
   "metadata": {
    "id": "_Z-YoyRWEGuO"
   },
   "outputs": [],
   "source": [
    "import os\n",
    "import numpy as np\n",
    "import re\n",
    "import requests\n",
    "import tarfile\n",
    "import shutil\n",
    "import pandas as pd\n",
    "import matplotlib.pyplot as plt\n",
    "import seaborn as sns\n",
    "import glob\n",
    "\n",
    "import warnings\n",
    "np.random.seed(0)\n",
    "warnings.filterwarnings('ignore')"
   ]
  },
  {
   "cell_type": "code",
   "execution_count": 39,
   "metadata": {
    "colab": {
     "base_uri": "https://localhost:8080/",
     "height": 206
    },
    "id": "P4zNAw0wMVJy",
    "outputId": "ffef193e-6ea0-4dac-baa3-a48275028416",
    "scrolled": true
   },
   "outputs": [
    {
     "data": {
      "text/html": [
       "<div>\n",
       "<style scoped>\n",
       "    .dataframe tbody tr th:only-of-type {\n",
       "        vertical-align: middle;\n",
       "    }\n",
       "\n",
       "    .dataframe tbody tr th {\n",
       "        vertical-align: top;\n",
       "    }\n",
       "\n",
       "    .dataframe thead th {\n",
       "        text-align: right;\n",
       "    }\n",
       "</style>\n",
       "<table border=\"1\" class=\"dataframe\">\n",
       "  <thead>\n",
       "    <tr style=\"text-align: right;\">\n",
       "      <th></th>\n",
       "      <th>submission_id</th>\n",
       "      <th>problem_id</th>\n",
       "      <th>user_id</th>\n",
       "      <th>date</th>\n",
       "      <th>language</th>\n",
       "      <th>original_language</th>\n",
       "      <th>filename_ext</th>\n",
       "      <th>status</th>\n",
       "      <th>cpu_time</th>\n",
       "      <th>memory</th>\n",
       "      <th>code_size</th>\n",
       "      <th>accuracy</th>\n",
       "    </tr>\n",
       "  </thead>\n",
       "  <tbody>\n",
       "    <tr>\n",
       "      <th>0</th>\n",
       "      <td>s694813024</td>\n",
       "      <td>p00000</td>\n",
       "      <td>u706566315</td>\n",
       "      <td>1540908251</td>\n",
       "      <td>Rust</td>\n",
       "      <td>Rust</td>\n",
       "      <td>rs</td>\n",
       "      <td>Wrong Answer</td>\n",
       "      <td>0.0</td>\n",
       "      <td>5012.0</td>\n",
       "      <td>120</td>\n",
       "      <td>0/1</td>\n",
       "    </tr>\n",
       "    <tr>\n",
       "      <th>1</th>\n",
       "      <td>s554950692</td>\n",
       "      <td>p00000</td>\n",
       "      <td>u706566315</td>\n",
       "      <td>1540908314</td>\n",
       "      <td>Rust</td>\n",
       "      <td>Rust</td>\n",
       "      <td>rs</td>\n",
       "      <td>Accepted</td>\n",
       "      <td>0.0</td>\n",
       "      <td>5004.0</td>\n",
       "      <td>124</td>\n",
       "      <td>1/1</td>\n",
       "    </tr>\n",
       "    <tr>\n",
       "      <th>2</th>\n",
       "      <td>s555203498</td>\n",
       "      <td>p00000</td>\n",
       "      <td>u759934006</td>\n",
       "      <td>1513417513</td>\n",
       "      <td>Rust</td>\n",
       "      <td>Rust</td>\n",
       "      <td>rs</td>\n",
       "      <td>Accepted</td>\n",
       "      <td>0.0</td>\n",
       "      <td>5020.0</td>\n",
       "      <td>136</td>\n",
       "      <td>1/1</td>\n",
       "    </tr>\n",
       "    <tr>\n",
       "      <th>3</th>\n",
       "      <td>s309783173</td>\n",
       "      <td>p00000</td>\n",
       "      <td>u233505136</td>\n",
       "      <td>1516826051</td>\n",
       "      <td>Rust</td>\n",
       "      <td>Rust</td>\n",
       "      <td>rs</td>\n",
       "      <td>Accepted</td>\n",
       "      <td>0.0</td>\n",
       "      <td>5004.0</td>\n",
       "      <td>123</td>\n",
       "      <td>1/1</td>\n",
       "    </tr>\n",
       "    <tr>\n",
       "      <th>4</th>\n",
       "      <td>s184977351</td>\n",
       "      <td>p00000</td>\n",
       "      <td>u191088660</td>\n",
       "      <td>1517740150</td>\n",
       "      <td>Rust</td>\n",
       "      <td>Rust</td>\n",
       "      <td>rs</td>\n",
       "      <td>Accepted</td>\n",
       "      <td>0.0</td>\n",
       "      <td>5004.0</td>\n",
       "      <td>122</td>\n",
       "      <td>1/1</td>\n",
       "    </tr>\n",
       "  </tbody>\n",
       "</table>\n",
       "</div>"
      ],
      "text/plain": [
       "  submission_id problem_id     user_id        date language original_language  \\\n",
       "0    s694813024     p00000  u706566315  1540908251     Rust              Rust   \n",
       "1    s554950692     p00000  u706566315  1540908314     Rust              Rust   \n",
       "2    s555203498     p00000  u759934006  1513417513     Rust              Rust   \n",
       "3    s309783173     p00000  u233505136  1516826051     Rust              Rust   \n",
       "4    s184977351     p00000  u191088660  1517740150     Rust              Rust   \n",
       "\n",
       "  filename_ext        status  cpu_time  memory  code_size accuracy  \n",
       "0           rs  Wrong Answer       0.0  5012.0        120      0/1  \n",
       "1           rs      Accepted       0.0  5004.0        124      1/1  \n",
       "2           rs      Accepted       0.0  5020.0        136      1/1  \n",
       "3           rs      Accepted       0.0  5004.0        123      1/1  \n",
       "4           rs      Accepted       0.0  5004.0        122      1/1  "
      ]
     },
     "execution_count": 39,
     "metadata": {},
     "output_type": "execute_result"
    }
   ],
   "source": [
    "data=pd.read_csv('alll.csv')\n",
    "data.head()"
   ]
  },
  {
   "cell_type": "markdown",
   "metadata": {
    "id": "qcIPImYuEZMB"
   },
   "source": [
    "**Download and extract**"
   ]
  },
  {
   "cell_type": "code",
   "execution_count": 40,
   "metadata": {
    "id": "qkYQm2OFETAl"
   },
   "outputs": [],
   "source": [
    "file_name = \"Project_CodeNet_Java250.tar.gz\"\n",
    "data_url = f\"https://dax-cdn.cdn.appdomain.cloud/dax-project-codenet/1.0.0/{file_name}\"\n",
    "\n",
    "# Download tar archive to local disk\n",
    "with open(file_name, \"wb\") as f:\n",
    "    f.write(requests.get(data_url).content)\n",
    "\n",
    "# # Extract contents of archive to local disk\n",
    "# if os.path.exists(\"data\"):\n",
    "#     shutil.rmtree(\"data\")\n",
    "# with tarfile.open(file_name) as tf:\n",
    "#     tf.extractall()"
   ]
  },
  {
   "cell_type": "code",
   "execution_count": 41,
   "metadata": {
    "id": "5Pg5CZ3GEoun"
   },
   "outputs": [],
   "source": [
    "code=[]\n",
    "root='Project_CodeNet_Java250'\n",
    "for folder in os.listdir(root):\n",
    "  sub_folder=os.path.join(root,folder)\n",
    "  for file_name in os.listdir(sub_folder):\n",
    "    with open(os.path.join(sub_folder,file_name),encoding='utf-8') as f:\n",
    "      text=f.read()\n",
    "    text=re.sub('//.*?\\n','',text)\n",
    "    text=re.sub('/.*?/','',text)\n",
    "    code.append([folder,file_name.split('.')[0],text])\n",
    "\n",
    "code=pd.DataFrame(code,columns=['problem_id','submission_id','code'])"
   ]
  },
  {
   "cell_type": "code",
   "execution_count": 13,
   "metadata": {
    "colab": {
     "base_uri": "https://localhost:8080/"
    },
    "id": "WbOX_eFjOjZ-",
    "outputId": "655842d4-9ffa-446a-d711-8932d391f77d"
   },
   "outputs": [
    {
     "name": "stdout",
     "output_type": "stream",
     "text": [
      "import java.util.Scanner;\n",
      "import java.util.Arrays;\n",
      "\n",
      "public class Main{\n",
      "\tpublic static void main(String[] args){\n",
      "\t\tScanner scan = new Scanner(System.in);\n",
      "\t\tint[] heights = new int[10];\n",
      "\t\tfor(int i = 0; i < 10; i++){\n",
      "\t\t\theights[i] = scan.nextInt();\n",
      "\t\t}\n",
      "\n",
      "\t\tArrays.sort(heights);\n",
      "\t\tfor(int i = 9; i >= 7; i--){\n",
      "\t\t\tSystem.out.println(heights[i]);\n",
      "\t\t}\n",
      "\t}\n",
      "}\n"
     ]
    }
   ],
   "source": [
    "print(code['code'][0])#展示一个代码段"
   ]
  },
  {
   "cell_type": "code",
   "execution_count": 14,
   "metadata": {
    "id": "zhNrwkuMGDHQ"
   },
   "outputs": [],
   "source": [
    "from collections import Counter\n",
    "frequency=Counter(re.split(r'[;\\s]+',code['code'][:10000].sum()))"
   ]
  },
  {
   "cell_type": "code",
   "execution_count": 15,
   "metadata": {
    "id": "FnQN1bMJRpiU"
   },
   "outputs": [],
   "source": [
    "mapping=dict(frequency.most_common(1000))\n",
    "vocab=mapping.keys()\n",
    "mapping={k:v for v,k in enumerate(vocab)}"
   ]
  },
  {
   "cell_type": "code",
   "execution_count": 16,
   "metadata": {
    "id": "hn5td5o2XOD7"
   },
   "outputs": [],
   "source": [
    "def string_to_vect(string):\n",
    "  words=re.split(r'[;\\s]+',string)\n",
    "  vect=[mapping.get(word,0) for word in words][:1000]\n",
    "  lens=len(vect)\n",
    "  if lens<1000:\n",
    "    for _ in range(1000-lens):\n",
    "      vect.append(0)\n",
    "  return vect"
   ]
  },
  {
   "cell_type": "code",
   "execution_count": 17,
   "metadata": {
    "id": "7-hatA3SXilu"
   },
   "outputs": [],
   "source": [
    "code['vect']=code['code'].map(string_to_vect)"
   ]
  },
  {
   "cell_type": "code",
   "execution_count": 18,
   "metadata": {
    "colab": {
     "base_uri": "https://localhost:8080/",
     "height": 424
    },
    "id": "8dwIifLrZn6R",
    "outputId": "7d77e1c7-3ff1-40e0-96e1-50afeb1f0068"
   },
   "outputs": [
    {
     "data": {
      "text/html": [
       "<div>\n",
       "<style scoped>\n",
       "    .dataframe tbody tr th:only-of-type {\n",
       "        vertical-align: middle;\n",
       "    }\n",
       "\n",
       "    .dataframe tbody tr th {\n",
       "        vertical-align: top;\n",
       "    }\n",
       "\n",
       "    .dataframe thead th {\n",
       "        text-align: right;\n",
       "    }\n",
       "</style>\n",
       "<table border=\"1\" class=\"dataframe\">\n",
       "  <thead>\n",
       "    <tr style=\"text-align: right;\">\n",
       "      <th></th>\n",
       "      <th>problem_id</th>\n",
       "      <th>submission_id</th>\n",
       "      <th>code</th>\n",
       "      <th>vect</th>\n",
       "    </tr>\n",
       "  </thead>\n",
       "  <tbody>\n",
       "    <tr>\n",
       "      <th>0</th>\n",
       "      <td>p00001</td>\n",
       "      <td>s005618736</td>\n",
       "      <td>import java.util.Scanner;\\nimport java.util.Ar...</td>\n",
       "      <td>[10, 26, 10, 151, 4, 11, 52, 4, 6, 9, 13, 71, ...</td>\n",
       "    </tr>\n",
       "    <tr>\n",
       "      <th>1</th>\n",
       "      <td>p00001</td>\n",
       "      <td>s007352793</td>\n",
       "      <td>/* package whatever; \\nimport java.util.*;\\nim...</td>\n",
       "      <td>[369, 0, 0, 10, 67, 10, 426, 10, 79, 11, 15, 2...</td>\n",
       "    </tr>\n",
       "    <tr>\n",
       "      <th>2</th>\n",
       "      <td>p00001</td>\n",
       "      <td>s007595410</td>\n",
       "      <td>import java.io.BufferedReader;\\nimport java.io...</td>\n",
       "      <td>[10, 58, 10, 68, 10, 59, 10, 151, 4, 11, 15, 2...</td>\n",
       "    </tr>\n",
       "    <tr>\n",
       "      <th>3</th>\n",
       "      <td>p00001</td>\n",
       "      <td>s008485993</td>\n",
       "      <td>import java.util.ArrayList;\\nimport java.util....</td>\n",
       "      <td>[10, 150, 10, 306, 10, 257, 10, 26, 11, 15, 2,...</td>\n",
       "    </tr>\n",
       "    <tr>\n",
       "      <th>4</th>\n",
       "      <td>p00001</td>\n",
       "      <td>s013394985</td>\n",
       "      <td>import java.util.Arrays;\\nimport java.util.Sca...</td>\n",
       "      <td>[10, 151, 10, 26, 4, 11, 15, 2, 6, 17, 41, 0, ...</td>\n",
       "    </tr>\n",
       "    <tr>\n",
       "      <th>...</th>\n",
       "      <td>...</td>\n",
       "      <td>...</td>\n",
       "      <td>...</td>\n",
       "      <td>...</td>\n",
       "    </tr>\n",
       "    <tr>\n",
       "      <th>74995</th>\n",
       "      <td>p04044</td>\n",
       "      <td>s982532402</td>\n",
       "      <td>import java.util.Arrays;\\nimport java.util.Sca...</td>\n",
       "      <td>[10, 151, 10, 26, 4, 11, 15, 2, 4, 6, 9, 13, 1...</td>\n",
       "    </tr>\n",
       "    <tr>\n",
       "      <th>74996</th>\n",
       "      <td>p04044</td>\n",
       "      <td>s984943858</td>\n",
       "      <td>import java.io.BufferedReader;\\nimport java.io...</td>\n",
       "      <td>[10, 58, 10, 68, 10, 0, 10, 462, 10, 0, 10, 0,...</td>\n",
       "    </tr>\n",
       "    <tr>\n",
       "      <th>74997</th>\n",
       "      <td>p04044</td>\n",
       "      <td>s986869927</td>\n",
       "      <td>import java.io.BufferedReader;\\nimport java.io...</td>\n",
       "      <td>[10, 58, 10, 68, 10, 59, 10, 462, 10, 151, 10,...</td>\n",
       "    </tr>\n",
       "    <tr>\n",
       "      <th>74998</th>\n",
       "      <td>p04044</td>\n",
       "      <td>s993597985</td>\n",
       "      <td>import java.util.ArrayList;\\nimport java.util....</td>\n",
       "      <td>[10, 150, 10, 306, 10, 26, 4, 11, 15, 2, 4, 6,...</td>\n",
       "    </tr>\n",
       "    <tr>\n",
       "      <th>74999</th>\n",
       "      <td>p04044</td>\n",
       "      <td>s995737440</td>\n",
       "      <td>\\n\\nimport java.io.*;\\nimport java.text.*;\\nim...</td>\n",
       "      <td>[0, 10, 79, 10, 0, 10, 67, 4, 11, 15, 2, 6, 34...</td>\n",
       "    </tr>\n",
       "  </tbody>\n",
       "</table>\n",
       "<p>75000 rows × 4 columns</p>\n",
       "</div>"
      ],
      "text/plain": [
       "      problem_id submission_id  \\\n",
       "0         p00001    s005618736   \n",
       "1         p00001    s007352793   \n",
       "2         p00001    s007595410   \n",
       "3         p00001    s008485993   \n",
       "4         p00001    s013394985   \n",
       "...          ...           ...   \n",
       "74995     p04044    s982532402   \n",
       "74996     p04044    s984943858   \n",
       "74997     p04044    s986869927   \n",
       "74998     p04044    s993597985   \n",
       "74999     p04044    s995737440   \n",
       "\n",
       "                                                    code  \\\n",
       "0      import java.util.Scanner;\\nimport java.util.Ar...   \n",
       "1      /* package whatever; \\nimport java.util.*;\\nim...   \n",
       "2      import java.io.BufferedReader;\\nimport java.io...   \n",
       "3      import java.util.ArrayList;\\nimport java.util....   \n",
       "4      import java.util.Arrays;\\nimport java.util.Sca...   \n",
       "...                                                  ...   \n",
       "74995  import java.util.Arrays;\\nimport java.util.Sca...   \n",
       "74996  import java.io.BufferedReader;\\nimport java.io...   \n",
       "74997  import java.io.BufferedReader;\\nimport java.io...   \n",
       "74998  import java.util.ArrayList;\\nimport java.util....   \n",
       "74999  \\n\\nimport java.io.*;\\nimport java.text.*;\\nim...   \n",
       "\n",
       "                                                    vect  \n",
       "0      [10, 26, 10, 151, 4, 11, 52, 4, 6, 9, 13, 71, ...  \n",
       "1      [369, 0, 0, 10, 67, 10, 426, 10, 79, 11, 15, 2...  \n",
       "2      [10, 58, 10, 68, 10, 59, 10, 151, 4, 11, 15, 2...  \n",
       "3      [10, 150, 10, 306, 10, 257, 10, 26, 11, 15, 2,...  \n",
       "4      [10, 151, 10, 26, 4, 11, 15, 2, 6, 17, 41, 0, ...  \n",
       "...                                                  ...  \n",
       "74995  [10, 151, 10, 26, 4, 11, 15, 2, 4, 6, 9, 13, 1...  \n",
       "74996  [10, 58, 10, 68, 10, 0, 10, 462, 10, 0, 10, 0,...  \n",
       "74997  [10, 58, 10, 68, 10, 59, 10, 462, 10, 151, 10,...  \n",
       "74998  [10, 150, 10, 306, 10, 26, 4, 11, 15, 2, 4, 6,...  \n",
       "74999  [0, 10, 79, 10, 0, 10, 67, 4, 11, 15, 2, 6, 34...  \n",
       "\n",
       "[75000 rows x 4 columns]"
      ]
     },
     "execution_count": 18,
     "metadata": {},
     "output_type": "execute_result"
    }
   ],
   "source": [
    "code"
   ]
  },
  {
   "cell_type": "markdown",
   "metadata": {
    "id": "yZljsyuRdsnI"
   },
   "source": [
    "**table data**"
   ]
  },
  {
   "cell_type": "code",
   "execution_count": 19,
   "metadata": {
    "colab": {
     "base_uri": "https://localhost:8080/",
     "height": 206
    },
    "id": "UlrOS3iPaqNV",
    "outputId": "853a0f41-ee58-40fe-928c-1d206880213b"
   },
   "outputs": [
    {
     "data": {
      "text/html": [
       "<div>\n",
       "<style scoped>\n",
       "    .dataframe tbody tr th:only-of-type {\n",
       "        vertical-align: middle;\n",
       "    }\n",
       "\n",
       "    .dataframe tbody tr th {\n",
       "        vertical-align: top;\n",
       "    }\n",
       "\n",
       "    .dataframe thead th {\n",
       "        text-align: right;\n",
       "    }\n",
       "</style>\n",
       "<table border=\"1\" class=\"dataframe\">\n",
       "  <thead>\n",
       "    <tr style=\"text-align: right;\">\n",
       "      <th></th>\n",
       "      <th>submission_id</th>\n",
       "      <th>problem_id</th>\n",
       "      <th>user_id</th>\n",
       "      <th>date</th>\n",
       "      <th>language</th>\n",
       "      <th>original_language</th>\n",
       "      <th>filename_ext</th>\n",
       "      <th>status</th>\n",
       "      <th>cpu_time</th>\n",
       "      <th>memory</th>\n",
       "      <th>code_size</th>\n",
       "      <th>accuracy</th>\n",
       "    </tr>\n",
       "  </thead>\n",
       "  <tbody>\n",
       "    <tr>\n",
       "      <th>0</th>\n",
       "      <td>s694813024</td>\n",
       "      <td>p00000</td>\n",
       "      <td>u706566315</td>\n",
       "      <td>1540908251</td>\n",
       "      <td>Rust</td>\n",
       "      <td>Rust</td>\n",
       "      <td>rs</td>\n",
       "      <td>Wrong Answer</td>\n",
       "      <td>0.0</td>\n",
       "      <td>5012.0</td>\n",
       "      <td>120</td>\n",
       "      <td>0/1</td>\n",
       "    </tr>\n",
       "    <tr>\n",
       "      <th>1</th>\n",
       "      <td>s554950692</td>\n",
       "      <td>p00000</td>\n",
       "      <td>u706566315</td>\n",
       "      <td>1540908314</td>\n",
       "      <td>Rust</td>\n",
       "      <td>Rust</td>\n",
       "      <td>rs</td>\n",
       "      <td>Accepted</td>\n",
       "      <td>0.0</td>\n",
       "      <td>5004.0</td>\n",
       "      <td>124</td>\n",
       "      <td>1/1</td>\n",
       "    </tr>\n",
       "    <tr>\n",
       "      <th>2</th>\n",
       "      <td>s555203498</td>\n",
       "      <td>p00000</td>\n",
       "      <td>u759934006</td>\n",
       "      <td>1513417513</td>\n",
       "      <td>Rust</td>\n",
       "      <td>Rust</td>\n",
       "      <td>rs</td>\n",
       "      <td>Accepted</td>\n",
       "      <td>0.0</td>\n",
       "      <td>5020.0</td>\n",
       "      <td>136</td>\n",
       "      <td>1/1</td>\n",
       "    </tr>\n",
       "    <tr>\n",
       "      <th>3</th>\n",
       "      <td>s309783173</td>\n",
       "      <td>p00000</td>\n",
       "      <td>u233505136</td>\n",
       "      <td>1516826051</td>\n",
       "      <td>Rust</td>\n",
       "      <td>Rust</td>\n",
       "      <td>rs</td>\n",
       "      <td>Accepted</td>\n",
       "      <td>0.0</td>\n",
       "      <td>5004.0</td>\n",
       "      <td>123</td>\n",
       "      <td>1/1</td>\n",
       "    </tr>\n",
       "    <tr>\n",
       "      <th>4</th>\n",
       "      <td>s184977351</td>\n",
       "      <td>p00000</td>\n",
       "      <td>u191088660</td>\n",
       "      <td>1517740150</td>\n",
       "      <td>Rust</td>\n",
       "      <td>Rust</td>\n",
       "      <td>rs</td>\n",
       "      <td>Accepted</td>\n",
       "      <td>0.0</td>\n",
       "      <td>5004.0</td>\n",
       "      <td>122</td>\n",
       "      <td>1/1</td>\n",
       "    </tr>\n",
       "  </tbody>\n",
       "</table>\n",
       "</div>"
      ],
      "text/plain": [
       "  submission_id problem_id     user_id        date language original_language  \\\n",
       "0    s694813024     p00000  u706566315  1540908251     Rust              Rust   \n",
       "1    s554950692     p00000  u706566315  1540908314     Rust              Rust   \n",
       "2    s555203498     p00000  u759934006  1513417513     Rust              Rust   \n",
       "3    s309783173     p00000  u233505136  1516826051     Rust              Rust   \n",
       "4    s184977351     p00000  u191088660  1517740150     Rust              Rust   \n",
       "\n",
       "  filename_ext        status  cpu_time  memory  code_size accuracy  \n",
       "0           rs  Wrong Answer       0.0  5012.0        120      0/1  \n",
       "1           rs      Accepted       0.0  5004.0        124      1/1  \n",
       "2           rs      Accepted       0.0  5020.0        136      1/1  \n",
       "3           rs      Accepted       0.0  5004.0        123      1/1  \n",
       "4           rs      Accepted       0.0  5004.0        122      1/1  "
      ]
     },
     "execution_count": 19,
     "metadata": {},
     "output_type": "execute_result"
    }
   ],
   "source": [
    "data.head()"
   ]
  },
  {
   "cell_type": "code",
   "execution_count": 20,
   "metadata": {
    "id": "4ULK85T1dzy3"
   },
   "outputs": [],
   "source": [
    "data=data.query('accuracy==\"1/1\"&status==\"Accepted\"')"
   ]
  },
  {
   "cell_type": "code",
   "execution_count": 21,
   "metadata": {
    "colab": {
     "base_uri": "https://localhost:8080/",
     "height": 424
    },
    "id": "rZn_kYkfd0UQ",
    "outputId": "febee977-9101-487d-9429-bbddeb8fb3f0"
   },
   "outputs": [
    {
     "data": {
      "text/html": [
       "<div>\n",
       "<style scoped>\n",
       "    .dataframe tbody tr th:only-of-type {\n",
       "        vertical-align: middle;\n",
       "    }\n",
       "\n",
       "    .dataframe tbody tr th {\n",
       "        vertical-align: top;\n",
       "    }\n",
       "\n",
       "    .dataframe thead th {\n",
       "        text-align: right;\n",
       "    }\n",
       "</style>\n",
       "<table border=\"1\" class=\"dataframe\">\n",
       "  <thead>\n",
       "    <tr style=\"text-align: right;\">\n",
       "      <th></th>\n",
       "      <th>submission_id</th>\n",
       "      <th>problem_id</th>\n",
       "      <th>user_id</th>\n",
       "      <th>date</th>\n",
       "      <th>language</th>\n",
       "      <th>original_language</th>\n",
       "      <th>filename_ext</th>\n",
       "      <th>status</th>\n",
       "      <th>cpu_time</th>\n",
       "      <th>memory</th>\n",
       "      <th>code_size</th>\n",
       "      <th>accuracy</th>\n",
       "    </tr>\n",
       "  </thead>\n",
       "  <tbody>\n",
       "    <tr>\n",
       "      <th>1</th>\n",
       "      <td>s554950692</td>\n",
       "      <td>p00000</td>\n",
       "      <td>u706566315</td>\n",
       "      <td>1540908314</td>\n",
       "      <td>Rust</td>\n",
       "      <td>Rust</td>\n",
       "      <td>rs</td>\n",
       "      <td>Accepted</td>\n",
       "      <td>0.0</td>\n",
       "      <td>5004.0</td>\n",
       "      <td>124</td>\n",
       "      <td>1/1</td>\n",
       "    </tr>\n",
       "    <tr>\n",
       "      <th>2</th>\n",
       "      <td>s555203498</td>\n",
       "      <td>p00000</td>\n",
       "      <td>u759934006</td>\n",
       "      <td>1513417513</td>\n",
       "      <td>Rust</td>\n",
       "      <td>Rust</td>\n",
       "      <td>rs</td>\n",
       "      <td>Accepted</td>\n",
       "      <td>0.0</td>\n",
       "      <td>5020.0</td>\n",
       "      <td>136</td>\n",
       "      <td>1/1</td>\n",
       "    </tr>\n",
       "    <tr>\n",
       "      <th>3</th>\n",
       "      <td>s309783173</td>\n",
       "      <td>p00000</td>\n",
       "      <td>u233505136</td>\n",
       "      <td>1516826051</td>\n",
       "      <td>Rust</td>\n",
       "      <td>Rust</td>\n",
       "      <td>rs</td>\n",
       "      <td>Accepted</td>\n",
       "      <td>0.0</td>\n",
       "      <td>5004.0</td>\n",
       "      <td>123</td>\n",
       "      <td>1/1</td>\n",
       "    </tr>\n",
       "    <tr>\n",
       "      <th>4</th>\n",
       "      <td>s184977351</td>\n",
       "      <td>p00000</td>\n",
       "      <td>u191088660</td>\n",
       "      <td>1517740150</td>\n",
       "      <td>Rust</td>\n",
       "      <td>Rust</td>\n",
       "      <td>rs</td>\n",
       "      <td>Accepted</td>\n",
       "      <td>0.0</td>\n",
       "      <td>5004.0</td>\n",
       "      <td>122</td>\n",
       "      <td>1/1</td>\n",
       "    </tr>\n",
       "    <tr>\n",
       "      <th>5</th>\n",
       "      <td>s171709297</td>\n",
       "      <td>p00000</td>\n",
       "      <td>u444102531</td>\n",
       "      <td>1518453505</td>\n",
       "      <td>Rust</td>\n",
       "      <td>Rust</td>\n",
       "      <td>rs</td>\n",
       "      <td>Accepted</td>\n",
       "      <td>0.0</td>\n",
       "      <td>5008.0</td>\n",
       "      <td>108</td>\n",
       "      <td>1/1</td>\n",
       "    </tr>\n",
       "    <tr>\n",
       "      <th>...</th>\n",
       "      <td>...</td>\n",
       "      <td>...</td>\n",
       "      <td>...</td>\n",
       "      <td>...</td>\n",
       "      <td>...</td>\n",
       "      <td>...</td>\n",
       "      <td>...</td>\n",
       "      <td>...</td>\n",
       "      <td>...</td>\n",
       "      <td>...</td>\n",
       "      <td>...</td>\n",
       "      <td>...</td>\n",
       "    </tr>\n",
       "    <tr>\n",
       "      <th>1944461</th>\n",
       "      <td>s506261030</td>\n",
       "      <td>p02525</td>\n",
       "      <td>u358792510</td>\n",
       "      <td>1340468710</td>\n",
       "      <td>C</td>\n",
       "      <td>C</td>\n",
       "      <td>c</td>\n",
       "      <td>Accepted</td>\n",
       "      <td>0.0</td>\n",
       "      <td>0.0</td>\n",
       "      <td>416</td>\n",
       "      <td>1/1</td>\n",
       "    </tr>\n",
       "    <tr>\n",
       "      <th>1944462</th>\n",
       "      <td>s548967462</td>\n",
       "      <td>p02525</td>\n",
       "      <td>u975905396</td>\n",
       "      <td>1341066552</td>\n",
       "      <td>C</td>\n",
       "      <td>C</td>\n",
       "      <td>c</td>\n",
       "      <td>Accepted</td>\n",
       "      <td>0.0</td>\n",
       "      <td>0.0</td>\n",
       "      <td>560</td>\n",
       "      <td>1/1</td>\n",
       "    </tr>\n",
       "    <tr>\n",
       "      <th>1944824</th>\n",
       "      <td>s751921273</td>\n",
       "      <td>p02525</td>\n",
       "      <td>u444904956</td>\n",
       "      <td>1335601711</td>\n",
       "      <td>C++</td>\n",
       "      <td>C++</td>\n",
       "      <td>cpp</td>\n",
       "      <td>Accepted</td>\n",
       "      <td>0.0</td>\n",
       "      <td>0.0</td>\n",
       "      <td>378</td>\n",
       "      <td>1/1</td>\n",
       "    </tr>\n",
       "    <tr>\n",
       "      <th>1944825</th>\n",
       "      <td>s868124794</td>\n",
       "      <td>p02525</td>\n",
       "      <td>u055278086</td>\n",
       "      <td>1337230147</td>\n",
       "      <td>C++</td>\n",
       "      <td>C++</td>\n",
       "      <td>cpp</td>\n",
       "      <td>Accepted</td>\n",
       "      <td>0.0</td>\n",
       "      <td>0.0</td>\n",
       "      <td>493</td>\n",
       "      <td>1/1</td>\n",
       "    </tr>\n",
       "    <tr>\n",
       "      <th>1944826</th>\n",
       "      <td>s788342328</td>\n",
       "      <td>p02525</td>\n",
       "      <td>u834504443</td>\n",
       "      <td>1337951074</td>\n",
       "      <td>C++</td>\n",
       "      <td>C++</td>\n",
       "      <td>cpp</td>\n",
       "      <td>Accepted</td>\n",
       "      <td>0.0</td>\n",
       "      <td>0.0</td>\n",
       "      <td>450</td>\n",
       "      <td>1/1</td>\n",
       "    </tr>\n",
       "  </tbody>\n",
       "</table>\n",
       "<p>264442 rows × 12 columns</p>\n",
       "</div>"
      ],
      "text/plain": [
       "        submission_id problem_id     user_id        date language  \\\n",
       "1          s554950692     p00000  u706566315  1540908314     Rust   \n",
       "2          s555203498     p00000  u759934006  1513417513     Rust   \n",
       "3          s309783173     p00000  u233505136  1516826051     Rust   \n",
       "4          s184977351     p00000  u191088660  1517740150     Rust   \n",
       "5          s171709297     p00000  u444102531  1518453505     Rust   \n",
       "...               ...        ...         ...         ...      ...   \n",
       "1944461    s506261030     p02525  u358792510  1340468710        C   \n",
       "1944462    s548967462     p02525  u975905396  1341066552        C   \n",
       "1944824    s751921273     p02525  u444904956  1335601711      C++   \n",
       "1944825    s868124794     p02525  u055278086  1337230147      C++   \n",
       "1944826    s788342328     p02525  u834504443  1337951074      C++   \n",
       "\n",
       "        original_language filename_ext    status  cpu_time  memory  code_size  \\\n",
       "1                    Rust           rs  Accepted       0.0  5004.0        124   \n",
       "2                    Rust           rs  Accepted       0.0  5020.0        136   \n",
       "3                    Rust           rs  Accepted       0.0  5004.0        123   \n",
       "4                    Rust           rs  Accepted       0.0  5004.0        122   \n",
       "5                    Rust           rs  Accepted       0.0  5008.0        108   \n",
       "...                   ...          ...       ...       ...     ...        ...   \n",
       "1944461                 C            c  Accepted       0.0     0.0        416   \n",
       "1944462                 C            c  Accepted       0.0     0.0        560   \n",
       "1944824               C++          cpp  Accepted       0.0     0.0        378   \n",
       "1944825               C++          cpp  Accepted       0.0     0.0        493   \n",
       "1944826               C++          cpp  Accepted       0.0     0.0        450   \n",
       "\n",
       "        accuracy  \n",
       "1            1/1  \n",
       "2            1/1  \n",
       "3            1/1  \n",
       "4            1/1  \n",
       "5            1/1  \n",
       "...          ...  \n",
       "1944461      1/1  \n",
       "1944462      1/1  \n",
       "1944824      1/1  \n",
       "1944825      1/1  \n",
       "1944826      1/1  \n",
       "\n",
       "[264442 rows x 12 columns]"
      ]
     },
     "execution_count": 21,
     "metadata": {},
     "output_type": "execute_result"
    }
   ],
   "source": [
    "data"
   ]
  },
  {
   "cell_type": "code",
   "execution_count": 22,
   "metadata": {
    "colab": {
     "base_uri": "https://localhost:8080/",
     "height": 1000
    },
    "id": "37huw0XUd1gX",
    "outputId": "36f0efb2-d040-4611-a961-e8e2fe57de83"
   },
   "outputs": [
    {
     "data": {
      "image/png": "[encoded data removed]",
      "text/plain": [
       "<Figure size 432x288 with 2 Axes>"
      ]
     },
     "metadata": {
      "needs_background": "light"
     },
     "output_type": "display_data"
    },
    {
     "data": {
      "image/png": "[encoded data removed]",
      "text/plain": [
       "<Figure size 432x288 with 2 Axes>"
      ]
     },
     "metadata": {
      "needs_background": "light"
     },
     "output_type": "display_data"
    },
    {
     "data": {
      "image/png": "[encoded data removed]",
      "text/plain": [
       "<Figure size 432x288 with 2 Axes>"
      ]
     },
     "metadata": {
      "needs_background": "light"
     },
     "output_type": "display_data"
    }
   ],
   "source": [
    "#建议注释 没什么用\n",
    "ct=pd.crosstab(data['problem_id'],data['language'],values=data['code_size'],aggfunc='mean')\n",
    "\n",
    "for var in ['cpu_time','memory','code_size']:\n",
    "    ct=pd.crosstab(data['problem_id'],data['language'],values=data[var],aggfunc='mean')\n",
    "    sns.heatmap(ct.dropna(),cmap='RdYlBu_r')\n",
    "    plt.title(var)\n",
    "    plt.show()"
   ]
  },
  {
   "cell_type": "code",
   "execution_count": null,
   "metadata": {
    "colab": {
     "base_uri": "https://localhost:8080/",
     "height": 1000
    },
    "id": "G3TSFMAMeHrx",
    "outputId": "aad63a73-0b3c-42c2-859e-283180b57b42"
   },
   "outputs": [],
   "source": [
    "array=np.arange(0,8500,500)\n",
    "data['cat_code']=pd.cut(data['code_size'],bins=array)\n",
    "\n",
    "fig,ax=plt.subplots(5,2,figsize=[15,30])\n",
    "for row,language in enumerate(['C++','C','Python','Java','All']):\n",
    "    for col,variable in enumerate(['cpu_time','memory']):\n",
    "        if language!='All':\n",
    "            df=data.query('language==\"{}\"'.format(language))\n",
    "        else:\n",
    "            df=data\n",
    "        sns.boxplot(data=df,y='cat_code',x=variable,ax=ax[row,col],palette='RdYlBu_r',whis=[0,50])\n",
    "        ax[row,col].set_xscale('log')\n",
    "        ax[row,col].set_xlabel(variable,fontsize=15)\n",
    "        ax[row,col].set_title(language,fontsize=25)\n",
    "plt.tight_layout()\n",
    "plt.savefig('logscale.png',dpi=600, bbox_inches='tight')\n",
    "plt.show()"
   ]
  },
  {
   "cell_type": "code",
   "execution_count": null,
   "metadata": {
    "id": "pk5ocZDdmg9t"
   },
   "outputs": [],
   "source": [
    "languages=['C++','C','Python','Java','All']\n",
    "data=data[data['language'].isin(languages)]"
   ]
  },
  {
   "cell_type": "code",
   "execution_count": null,
   "metadata": {
    "colab": {
     "base_uri": "https://localhost:8080/"
    },
    "id": "2y4avnmXmpzi",
    "outputId": "6131e6bc-c7f1-47f7-e532-f060fb4db40b"
   },
   "outputs": [],
   "source": [
    "from scipy.stats import f_oneway\n",
    "\n",
    "pt=data.pivot_table(index='problem_id',columns='language',aggfunc='mean')\n",
    "pt.dropna(inplace=True)\n",
    "\n",
    "for var in ['cpu_time','memory','code_size']:\n",
    "    df=pt[var].reset_index()\n",
    "    reshaped_data = pd.melt(df, id_vars=['problem_id'], value_vars=['C', 'C++', 'Java', 'Python'],\n",
    "                        var_name='language', value_name=var)\n",
    "\n",
    "    # Perform ANOVA\n",
    "    f_statistic, p_value = f_oneway(\n",
    "        reshaped_data[reshaped_data['language'] == 'C'][var],\n",
    "        reshaped_data[reshaped_data['language'] == 'C++'][var],\n",
    "        reshaped_data[reshaped_data['language'] == 'Java'][var],\n",
    "        reshaped_data[reshaped_data['language'] == 'Python'][var]\n",
    "    )\n",
    "    print('Var:{},F_statistic:{:.3f}, P_value: {:.3f}'.format(var,f_statistic, p_value))\n",
    "#这里3个变量的p值都小于0.05 所以我们可以拒绝零假设，认为不同的编程语言对于同一个问题ID的三个变量存在显著差异"
   ]
  },
  {
   "cell_type": "code",
   "execution_count": null,
   "metadata": {
    "colab": {
     "base_uri": "https://localhost:8080/",
     "height": 913
    },
    "id": "UTL3zznLmzUr",
    "outputId": "65dd5bfb-6897-4ea4-f925-f4dd7141cf2b"
   },
   "outputs": [],
   "source": [
    "def normalize_row(row):\n",
    "    return (row - row.min()) / (row.max() - row.min())\n",
    "\n",
    "from matplotlib.colors import ListedColormap, BoundaryNorm\n",
    "from matplotlib.colorbar import ColorbarBase\n",
    "\n",
    "cmap_discrete = ListedColormap(sns.color_palette(\"RdYlBu_r\", 10))\n",
    "bounds = np.linspace(0, 1, 11)\n",
    "norm_discrete = BoundaryNorm(bounds, cmap_discrete.N)\n",
    "\n",
    "\n",
    "fig,ax=plt.subplots(1,3,figsize=[10,10])\n",
    "vars=['cpu_time','memory','code_size']\n",
    "for idx,ax in enumerate(ax.flat):\n",
    "    normalized_df = pt[vars[idx]].apply(normalize_row, axis=1)\n",
    "    sns.heatmap(normalized_df,yticklabels='',cmap=cmap_discrete,ax=ax,cbar=False,norm=norm_discrete)\n",
    "    ax.set_title(vars[idx])\n",
    "    ax.set_ylabel('')\n",
    "    ax.set_xlabel('')\n",
    "\n",
    "cbar_ax = fig.add_axes([0.92, 0.15, 0.02, 0.7])\n",
    "cb = ColorbarBase(cbar_ax, cmap=cmap_discrete, norm=norm_discrete, orientation='vertical', ticks=bounds)\n",
    "fig.text(0.5, 0.04, 'Language', ha='center', va='center',fontsize=20)\n",
    "plt.show()"
   ]
  },
  {
   "cell_type": "code",
   "execution_count": null,
   "metadata": {
    "colab": {
     "base_uri": "https://localhost:8080/",
     "height": 424
    },
    "id": "v63J8NLbsukj",
    "outputId": "92d4d7ab-e10d-4457-f7a9-fd3fa617625b"
   },
   "outputs": [],
   "source": [
    "code"
   ]
  },
  {
   "cell_type": "code",
   "execution_count": null,
   "metadata": {
    "id": "hhHgrIyvrgUl"
   },
   "outputs": [],
   "source": [
    "data=data.query('language==\"Java\"')#选择语言为java的"
   ]
  },
  {
   "cell_type": "code",
   "execution_count": null,
   "metadata": {
    "id": "Zezkr4sjr2CR"
   },
   "outputs": [],
   "source": [
    "final=data.merge(code,on=['problem_id','submission_id'])"
   ]
  },
  {
   "cell_type": "code",
   "execution_count": null,
   "metadata": {
    "id": "4Qehd5_xvOds"
   },
   "outputs": [],
   "source": [
    "final=final[(final.loc[:,['cpu_time','memory','code_size']]>0).all(1)]#过滤掉 cup memory codesize为0的部分"
   ]
  },
  {
   "cell_type": "code",
   "execution_count": null,
   "metadata": {
    "colab": {
     "base_uri": "https://localhost:8080/",
     "height": 206
    },
    "id": "tMqaW9tjvfFu",
    "outputId": "37915d77-b2aa-4039-9506-69f2488a735e"
   },
   "outputs": [],
   "source": [
    "final.head()"
   ]
  },
  {
   "cell_type": "code",
   "execution_count": null,
   "metadata": {
    "id": "Pr3QbMBUv_Zn"
   },
   "outputs": [],
   "source": [
    "from sklearn.linear_model import LinearRegression\n",
    "from sklearn.ensemble import RandomForestRegressor\n",
    "from sklearn.linear_model import SGDRegressor\n",
    "from sklearn.neural_network import MLPRegressor\n",
    "from sklearn import metrics\n",
    "from sklearn.model_selection import GridSearchCV,cross_val_score\n",
    "from lightgbm import LGBMRegressor\n",
    "from sklearn.ensemble import GradientBoostingRegressor"
   ]
  },
  {
   "cell_type": "code",
   "execution_count": null,
   "metadata": {
    "id": "IGQgaHtjx5IZ"
   },
   "outputs": [],
   "source": [
    "linear_param={'fit_intercept':[True,False]}\n",
    "\n",
    "mlp_param = {\n",
    "    'hidden_layer_sizes': [(50,50,50), (50,100,50)],\n",
    "    'activation': ['tanh', 'relu'],\n",
    "    'solver': ['sgd', 'adam'],\n",
    "    'alpha': [0.0001, 0.05],\n",
    "    'learning_rate': ['constant','adaptive'],\n",
    "}\n",
    "\n",
    "rf_param = {\n",
    "    'n_estimators': [10, 50],\n",
    "    'max_features': ['auto', 'sqrt'],\n",
    "    'max_depth' : [2,4,6,8,10],\n",
    "    'bootstrap': [True, False]\n",
    "}\n",
    "\n",
    "gbm_param = {\n",
    "    'num_leaves': [31, 127],\n",
    "    'reg_alpha': [0.1, 0.5],\n",
    "    'min_data_in_leaf': [30, 50, 100, 300, 400],\n",
    "    'lambda_l1': [0, 1, 1.5],\n",
    "    'lambda_l2': [0, 1]\n",
    "    }\n",
    "\n",
    "gbdt_param = {'n_estimators':[100, 200, 300, 400, 500],\n",
    "            'learning_rate': [0.1, 0.05, 0.01],\n",
    "            'max_depth':[4, 6, 8],\n",
    "            'min_samples_leaf':[3, 5, 9, 14],\n",
    "            'max_features':[0.1, 0.3, 1.0]}"
   ]
  },
  {
   "cell_type": "code",
   "execution_count": null,
   "metadata": {
    "id": "VRdp_7PAx-Ae"
   },
   "outputs": [],
   "source": [
    "def highlight_greaterthan(s, threshold, color='orange'):\n",
    "    return 'background-color: {}'.format(color) if s > threshold else ''\n",
    "\n",
    "\n",
    "def cv(df,model,parameters={}):#5折交叉验证\n",
    "    size=len(df)\n",
    "    if size<20:\n",
    "        return pd.DataFrame([[0,0,0,0,0]],columns=['code_cpu','code_memory','code+memory_cpu','code+cpu_memory','size'])\n",
    "    result=[]\n",
    "    for pair in [\n",
    "        [['code_size'],'cpu_time'],\n",
    "        [['code_size'],'memory'],\n",
    "        [['code_size','memory'],'cpu_time'],\n",
    "        [['code_size','cpu_time'],'memory']\n",
    "        ]:\n",
    "        matrix=np.vstack(df['vect'])\n",
    "        features=np.column_stack([df[pair[0]].values,matrix])\n",
    "        gs=GridSearchCV(model(),param_grid=parameters,scoring='r2',n_jobs=4,pre_dispatch=4)\n",
    "        gs.fit(features,df[pair[1]])\n",
    "        result.append(gs.best_score_)\n",
    "    result.append(size)\n",
    "    return pd.DataFrame([result],columns=['code_cpu','code_memory','code+memory_cpu','code+cpu_memory','size'])\n"
   ]
  },
  {
   "cell_type": "markdown",
   "metadata": {
    "id": "YQlzfFfx7Kc7"
   },
   "source": [
    "**linear**"
   ]
  },
  {
   "cell_type": "code",
   "execution_count": null,
   "metadata": {
    "colab": {
     "base_uri": "https://localhost:8080/",
     "height": 81
    },
    "id": "fimbFzF246ml",
    "outputId": "21828ac1-b8e6-4e4c-efde-209bf34fda2c"
   },
   "outputs": [],
   "source": [
    "cv_out_linear=final.groupby(['language','problem_id']).apply(lambda df:cv(df,LinearRegression,linear_param))\n",
    "\n",
    "r1=cv_out_linear[(cv_out_linear.iloc[:,:-1]>0.6).any(1)].style.applymap(highlight_greaterthan, threshold=0.6)\n",
    "r1"
   ]
  },
  {
   "cell_type": "markdown",
   "metadata": {
    "id": "58h-FPJY-Ame"
   },
   "source": [
    "**Lightgbm**"
   ]
  },
  {
   "cell_type": "code",
   "execution_count": null,
   "metadata": {
    "colab": {
     "base_uri": "https://localhost:8080/",
     "height": 137
    },
    "id": "hOGpNmjl7jLL",
    "outputId": "0a0915df-4941-4595-a173-9f4f2046bdbd"
   },
   "outputs": [],
   "source": [
    "cv_out_gbm=final.groupby(['language','problem_id']).apply(lambda df:cv(df,LGBMRegressor,gbm_param))\n",
    "\n",
    "r4=cv_out_gbm[(cv_out_gbm.iloc[:,:-1]>0.6).any(1)].style.applymap(highlight_greaterthan, threshold=0.6)\n",
    "r4"
   ]
  },
  {
   "cell_type": "markdown",
   "metadata": {
    "id": "7MZMStfc-Hf1"
   },
   "source": [
    "**GBDT**"
   ]
  },
  {
   "cell_type": "code",
   "execution_count": null,
   "metadata": {
    "id": "FevBPStr-CgW"
   },
   "outputs": [],
   "source": [
    "cv_out_gbdt=final.groupby(['language','problem_id']).apply(lambda df:cv(df,GradientBoostingRegressor,gbdt_param))\n",
    "\n",
    "r5=cv_out_gbdt[(cv_out_gbmt.iloc[:,:-1]>0.6).any(1)].style.applymap(highlight_greaterthan, threshold=0.6)\n",
    "r5"
   ]
  },
  {
   "cell_type": "markdown",
   "metadata": {
    "id": "tT_l5DnG-MiF"
   },
   "source": [
    "# code_size小于3000"
   ]
  },
  {
   "cell_type": "code",
   "execution_count": null,
   "metadata": {
    "id": "UwdJtcFQ-KID"
   },
   "outputs": [],
   "source": [
    "lt_3000=final[final.code_size<3000]"
   ]
  },
  {
   "cell_type": "markdown",
   "metadata": {
    "id": "NGr9F4JyEOmh"
   },
   "source": [
    "**linear**"
   ]
  },
  {
   "cell_type": "code",
   "execution_count": null,
   "metadata": {
    "id": "ZdrJdDQf-R3Z"
   },
   "outputs": [],
   "source": [
    "cv_out_linear=lt_3000.groupby(['language','problem_id']).apply(lambda df:cv(df,LinearRegression,linear_param))\n",
    "r6=cv_out_linear[(fit_out_linear.iloc[:,:-1]>0.6).any(1)].style.applymap(highlight_greaterthan, threshold=0.6)\n",
    "r6"
   ]
  },
  {
   "cell_type": "markdown",
   "metadata": {
    "id": "nSqSId80EUzB"
   },
   "source": [
    "**Lightgbm**"
   ]
  },
  {
   "cell_type": "code",
   "execution_count": null,
   "metadata": {
    "id": "Em3fKGF6EWRf"
   },
   "outputs": [],
   "source": [
    "cv_out_gbm=lt_3000.groupby(['language','problem_id']).apply(lambda df:cv(df,LGBMRegressor,gbm_param))\n",
    "\n",
    "r9=cv_out_gbm[(cv_out_gbm.iloc[:,:-1]>0.6).any(1)].style.applymap(highlight_greaterthan, threshold=0.6)\n",
    "r9"
   ]
  },
  {
   "cell_type": "markdown",
   "metadata": {
    "id": "DeE4llaOEs1C"
   },
   "source": [
    "**GBDT**"
   ]
  },
  {
   "cell_type": "code",
   "execution_count": null,
   "metadata": {
    "id": "9-pO3P9BEtWn"
   },
   "outputs": [],
   "source": [
    "cv_out_gbdt=lt_3000.groupby(['language','problem_id']).apply(lambda df:cv(df,GradientBoostingRegressor,gbdt_param))\n",
    "\n",
    "r10=cv_out_gbdt[(cv_out_gbdt.iloc[:,:-1]>0.6).any(1)].style.applymap(highlight_greaterthan, threshold=0.6)\n",
    "r10"
   ]
  },
  {
   "cell_type": "code",
   "execution_count": null,
   "metadata": {},
   "outputs": [],
   "source": []
  }
 ],
 "metadata": {
  "colab": {
   "provenance": []
  },
  "kernelspec": {
   "display_name": "Python 3 (ipykernel)",
   "language": "python",
   "name": "python3"
  },
  "language_info": {
   "codemirror_mode": {
    "name": "ipython",
    "version": 3
   },
   "file_extension": ".py",
   "mimetype": "text/x-python",
   "name": "python",
   "nbconvert_exporter": "python",
   "pygments_lexer": "ipython3",
   "version": "3.9.7"
  }
 },
 "nbformat": 4,
 "nbformat_minor": 1
}
